{
 "cells": [
  {
   "cell_type": "markdown",
   "id": "46c6ba6a-2b58-4380-9182-8092ee47551d",
   "metadata": {},
   "source": [
    "# Data Visualizations for Astronomy Ontology\n",
    "## Group 59"
   ]
  },
  {
   "cell_type": "code",
   "execution_count": null,
   "id": "89d9882b-986d-45dc-8edd-d0796b95a951",
   "metadata": {},
   "outputs": [],
   "source": [
    "%load_ext ipython_sparql_pandas"
   ]
  },
  {
   "cell_type": "markdown",
   "id": "52d07742-b114-4a12-a620-3a8c1344cb89",
   "metadata": {},
   "source": [
    "First, make sure that `astronomy.ttl` is loaded in GraphDb as the `astro` repository.\n",
    "Then, we will query to find the planets."
   ]
  },
  {
   "cell_type": "code",
   "execution_count": null,
   "id": "32b671c6-651d-4408-9e2b-df3d9f0f790c",
   "metadata": {},
   "outputs": [],
   "source": [
    "%%sparql http://localhost:7200/repositories/astro -s planets\n",
    "PREFIX pl: <http://example/pl/>\n",
    "\n",
    "SELECT ?planet (COUNT(*) as ?moons) {\n",
    "    ?planet pl:hasMoon ?o .\n",
    "} GROUP BY ?planet"
   ]
  },
  {
   "cell_type": "markdown",
   "id": "3d4e5fce-7d6b-4120-84e9-5a4a4b165ab8",
   "metadata": {},
   "source": [
    "### Bar Graph of Planets and Their Number of Moons"
   ]
  },
  {
   "cell_type": "code",
   "execution_count": null,
   "id": "9a0d0829-fc4a-4c5a-bc0b-9e7263fe1541",
   "metadata": {},
   "outputs": [],
   "source": [
    "planets.set_index('planet', inplace=True);\n",
    "planets['planet'].plot(kind=\"bar\");"
   ]
  }
 ],
 "metadata": {
  "kernelspec": {
   "display_name": "Python 3 (ipykernel)",
   "language": "python",
   "name": "python3"
  },
  "language_info": {
   "codemirror_mode": {
    "name": "ipython",
    "version": 3
   },
   "file_extension": ".py",
   "mimetype": "text/x-python",
   "name": "python",
   "nbconvert_exporter": "python",
   "pygments_lexer": "ipython3",
   "version": "3.9.7"
  }
 },
 "nbformat": 4,
 "nbformat_minor": 5
}
