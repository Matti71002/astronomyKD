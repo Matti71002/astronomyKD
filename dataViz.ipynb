{
 "cells": [
  {
   "cell_type": "markdown",
   "id": "46c6ba6a-2b58-4380-9182-8092ee47551d",
   "metadata": {},
   "source": [
    "# Data Visualizations for Astronomy Ontology\n",
    "## Group 59"
   ]
  },
  {
   "cell_type": "code",
   "execution_count": 13,
   "id": "89d9882b-986d-45dc-8edd-d0796b95a951",
   "metadata": {},
   "outputs": [
    {
     "name": "stdout",
     "output_type": "stream",
     "text": [
      "The ipython_sparql_pandas extension is already loaded. To reload it, use:\n",
      "  %reload_ext ipython_sparql_pandas\n"
     ]
    }
   ],
   "source": [
    "%load_ext ipython_sparql_pandas"
   ]
  },
  {
   "cell_type": "markdown",
   "id": "52d07742-b114-4a12-a620-3a8c1344cb89",
   "metadata": {},
   "source": [
    "First, make sure that `astronomy.ttl` is loaded in GraphDb as the `astro` repository.\n",
    "Then, we will query to find the planets."
   ]
  },
  {
   "cell_type": "code",
   "execution_count": 14,
   "id": "32b671c6-651d-4408-9e2b-df3d9f0f790c",
   "metadata": {},
   "outputs": [
    {
     "data": {
      "text/html": [
       "<div>\n",
       "<style scoped>\n",
       "    .dataframe tbody tr th:only-of-type {\n",
       "        vertical-align: middle;\n",
       "    }\n",
       "\n",
       "    .dataframe tbody tr th {\n",
       "        vertical-align: top;\n",
       "    }\n",
       "\n",
       "    .dataframe thead th {\n",
       "        text-align: right;\n",
       "    }\n",
       "</style>\n",
       "<table border=\"1\" class=\"dataframe\">\n",
       "  <thead>\n",
       "    <tr style=\"text-align: right;\">\n",
       "      <th></th>\n",
       "      <th>planet</th>\n",
       "      <th>moons</th>\n",
       "    </tr>\n",
       "  </thead>\n",
       "  <tbody>\n",
       "    <tr>\n",
       "      <th>0</th>\n",
       "      <td>http://example/pl/Earth</td>\n",
       "      <td>1</td>\n",
       "    </tr>\n",
       "    <tr>\n",
       "      <th>1</th>\n",
       "      <td>http://example/pl/Mars</td>\n",
       "      <td>2</td>\n",
       "    </tr>\n",
       "    <tr>\n",
       "      <th>2</th>\n",
       "      <td>http://example/pl/Eris</td>\n",
       "      <td>1</td>\n",
       "    </tr>\n",
       "    <tr>\n",
       "      <th>3</th>\n",
       "      <td>http://example/pl/Gonggong</td>\n",
       "      <td>1</td>\n",
       "    </tr>\n",
       "    <tr>\n",
       "      <th>4</th>\n",
       "      <td>http://example/pl/Haumea</td>\n",
       "      <td>2</td>\n",
       "    </tr>\n",
       "    <tr>\n",
       "      <th>5</th>\n",
       "      <td>http://example/pl/Jupiter</td>\n",
       "      <td>79</td>\n",
       "    </tr>\n",
       "    <tr>\n",
       "      <th>6</th>\n",
       "      <td>http://example/pl/Makemake</td>\n",
       "      <td>1</td>\n",
       "    </tr>\n",
       "    <tr>\n",
       "      <th>7</th>\n",
       "      <td>http://example/pl/Neptune</td>\n",
       "      <td>14</td>\n",
       "    </tr>\n",
       "    <tr>\n",
       "      <th>8</th>\n",
       "      <td>http://example/pl/Orcus</td>\n",
       "      <td>1</td>\n",
       "    </tr>\n",
       "    <tr>\n",
       "      <th>9</th>\n",
       "      <td>http://example/pl/Pluto</td>\n",
       "      <td>5</td>\n",
       "    </tr>\n",
       "    <tr>\n",
       "      <th>10</th>\n",
       "      <td>http://example/pl/Quaoar</td>\n",
       "      <td>1</td>\n",
       "    </tr>\n",
       "    <tr>\n",
       "      <th>11</th>\n",
       "      <td>http://example/pl/Salacia</td>\n",
       "      <td>1</td>\n",
       "    </tr>\n",
       "    <tr>\n",
       "      <th>12</th>\n",
       "      <td>http://example/pl/Saturn</td>\n",
       "      <td>82</td>\n",
       "    </tr>\n",
       "    <tr>\n",
       "      <th>13</th>\n",
       "      <td>http://example/pl/Uranus</td>\n",
       "      <td>27</td>\n",
       "    </tr>\n",
       "  </tbody>\n",
       "</table>\n",
       "</div>"
      ],
      "text/plain": [
       "                        planet  moons\n",
       "0      http://example/pl/Earth      1\n",
       "1       http://example/pl/Mars      2\n",
       "2       http://example/pl/Eris      1\n",
       "3   http://example/pl/Gonggong      1\n",
       "4     http://example/pl/Haumea      2\n",
       "5    http://example/pl/Jupiter     79\n",
       "6   http://example/pl/Makemake      1\n",
       "7    http://example/pl/Neptune     14\n",
       "8      http://example/pl/Orcus      1\n",
       "9      http://example/pl/Pluto      5\n",
       "10    http://example/pl/Quaoar      1\n",
       "11   http://example/pl/Salacia      1\n",
       "12    http://example/pl/Saturn     82\n",
       "13    http://example/pl/Uranus     27"
      ]
     },
     "execution_count": 14,
     "metadata": {},
     "output_type": "execute_result"
    }
   ],
   "source": [
    "%%sparql http://localhost:7200/repositories/astro -s planets\n",
    "PREFIX pl: <http://example/pl/>\n",
    "\n",
    "SELECT ?planet (COUNT(*) as ?moons) {\n",
    "    ?planet pl:hasSatellite ?o .\n",
    "} GROUP BY ?planet"
   ]
  },
  {
   "cell_type": "markdown",
   "id": "36826cd2-e52d-4dc1-a645-dbb75d3aa825",
   "metadata": {},
   "source": [
    "## Chart Visualizations"
   ]
  },
  {
   "cell_type": "markdown",
   "id": "3d4e5fce-7d6b-4120-84e9-5a4a4b165ab8",
   "metadata": {},
   "source": [
    "### Bar Graph of Planets and Their Number of Moons"
   ]
  },
  {
   "cell_type": "code",
   "execution_count": 15,
   "id": "9a0d0829-fc4a-4c5a-bc0b-9e7263fe1541",
   "metadata": {},
   "outputs": [
    {
     "data": {
      "image/png": "[encoded data removed]",
      "text/plain": [
       "<Figure size 432x288 with 1 Axes>"
      ]
     },
     "metadata": {
      "needs_background": "light"
     },
     "output_type": "display_data"
    }
   ],
   "source": [
    "planets.set_index('planet', inplace=True);\n",
    "planets['moons'].plot(kind=\"bar\", ylabel=\"number of moons\");"
   ]
  },
  {
   "cell_type": "markdown",
   "id": "08ed358d-8c05-4df1-8ad7-c746d7cc0bb7",
   "metadata": {},
   "source": [
    "### Moon Count Visualization with Planet Size"
   ]
  },
  {
   "cell_type": "code",
   "execution_count": 16,
   "id": "fbf3461d-ada1-4ed7-8816-a1def2b5294f",
   "metadata": {},
   "outputs": [
    {
     "data": {
      "text/html": [
       "<div>\n",
       "<style scoped>\n",
       "    .dataframe tbody tr th:only-of-type {\n",
       "        vertical-align: middle;\n",
       "    }\n",
       "\n",
       "    .dataframe tbody tr th {\n",
       "        vertical-align: top;\n",
       "    }\n",
       "\n",
       "    .dataframe thead th {\n",
       "        text-align: right;\n",
       "    }\n",
       "</style>\n",
       "<table border=\"1\" class=\"dataframe\">\n",
       "  <thead>\n",
       "    <tr style=\"text-align: right;\">\n",
       "      <th></th>\n",
       "      <th>planet</th>\n",
       "      <th>moons</th>\n",
       "      <th>mass</th>\n",
       "    </tr>\n",
       "  </thead>\n",
       "  <tbody>\n",
       "    <tr>\n",
       "      <th>0</th>\n",
       "      <td>http://example/pl/Earth</td>\n",
       "      <td>1</td>\n",
       "      <td>1.00</td>\n",
       "    </tr>\n",
       "    <tr>\n",
       "      <th>1</th>\n",
       "      <td>http://example/pl/Mars</td>\n",
       "      <td>2</td>\n",
       "      <td>0.11</td>\n",
       "    </tr>\n",
       "    <tr>\n",
       "      <th>2</th>\n",
       "      <td>http://example/pl/Jupiter</td>\n",
       "      <td>79</td>\n",
       "      <td>317.83</td>\n",
       "    </tr>\n",
       "    <tr>\n",
       "      <th>3</th>\n",
       "      <td>http://example/pl/Neptune</td>\n",
       "      <td>14</td>\n",
       "      <td>17.15</td>\n",
       "    </tr>\n",
       "    <tr>\n",
       "      <th>4</th>\n",
       "      <td>http://example/pl/Saturn</td>\n",
       "      <td>82</td>\n",
       "      <td>95.16</td>\n",
       "    </tr>\n",
       "    <tr>\n",
       "      <th>5</th>\n",
       "      <td>http://example/pl/Uranus</td>\n",
       "      <td>27</td>\n",
       "      <td>14.54</td>\n",
       "    </tr>\n",
       "  </tbody>\n",
       "</table>\n",
       "</div>"
      ],
      "text/plain": [
       "                      planet  moons    mass\n",
       "0    http://example/pl/Earth      1    1.00\n",
       "1     http://example/pl/Mars      2    0.11\n",
       "2  http://example/pl/Jupiter     79  317.83\n",
       "3  http://example/pl/Neptune     14   17.15\n",
       "4   http://example/pl/Saturn     82   95.16\n",
       "5   http://example/pl/Uranus     27   14.54"
      ]
     },
     "execution_count": 16,
     "metadata": {},
     "output_type": "execute_result"
    }
   ],
   "source": [
    "%%sparql http://localhost:7200/repositories/astro -s planetsWithSize\n",
    "PREFIX pl: <http://example/pl/>\n",
    "\n",
    "SELECT ?planet (COUNT(*) as ?moons) (xsd:float(?mass1) as ?mass){\n",
    "    ?planet pl:hasSatellite ?moons .\n",
    "    ?planet pl:hasMass ?mass1 .\n",
    "} GROUP BY ?planet ?mass1"
   ]
  },
  {
   "cell_type": "code",
   "execution_count": 26,
   "id": "41e33801-cbb3-454d-9b69-7973693d4a4b",
   "metadata": {},
   "outputs": [
    {
     "data": {
      "text/plain": [
       "<AxesSubplot:xlabel='planet', ylabel='moons'>"
      ]
     },
     "execution_count": 26,
     "metadata": {},
     "output_type": "execute_result"
    },
    {
     "data": {
      "image/png": "[encoded data removed]",
      "text/plain": [
       "<Figure size 432x288 with 2 Axes>"
      ]
     },
     "metadata": {
      "needs_background": "light"
     },
     "output_type": "display_data"
    }
   ],
   "source": [
    "planetsWithSize.plot.scatter(x=\"planet\", y=\"moons\", c=\"mass\", s=100, edgecolors='0', sharex=False, rot=\"90\")"
   ]
  },
  {
   "cell_type": "markdown",
   "id": "a69e74f1-4634-45e9-a841-fae63de009cd",
   "metadata": {},
   "source": [
    "### Rank Planets in terms of Mass "
   ]
  },
  {
   "cell_type": "code",
   "execution_count": 18,
   "id": "31757627-a9ad-43dc-abac-b420d9b4d3a8",
   "metadata": {},
   "outputs": [
    {
     "data": {
      "text/html": [
       "<div>\n",
       "<style scoped>\n",
       "    .dataframe tbody tr th:only-of-type {\n",
       "        vertical-align: middle;\n",
       "    }\n",
       "\n",
       "    .dataframe tbody tr th {\n",
       "        vertical-align: top;\n",
       "    }\n",
       "\n",
       "    .dataframe thead th {\n",
       "        text-align: right;\n",
       "    }\n",
       "</style>\n",
       "<table border=\"1\" class=\"dataframe\">\n",
       "  <thead>\n",
       "    <tr style=\"text-align: right;\">\n",
       "      <th></th>\n",
       "      <th>planet</th>\n",
       "      <th>mass</th>\n",
       "    </tr>\n",
       "  </thead>\n",
       "  <tbody>\n",
       "    <tr>\n",
       "      <th>0</th>\n",
       "      <td>http://example/pl/Jupiter</td>\n",
       "      <td>317.83</td>\n",
       "    </tr>\n",
       "    <tr>\n",
       "      <th>1</th>\n",
       "      <td>http://example/pl/Saturn</td>\n",
       "      <td>95.16</td>\n",
       "    </tr>\n",
       "    <tr>\n",
       "      <th>2</th>\n",
       "      <td>http://example/pl/Neptune</td>\n",
       "      <td>17.15</td>\n",
       "    </tr>\n",
       "    <tr>\n",
       "      <th>3</th>\n",
       "      <td>http://example/pl/Uranus</td>\n",
       "      <td>14.54</td>\n",
       "    </tr>\n",
       "    <tr>\n",
       "      <th>4</th>\n",
       "      <td>http://example/pl/Earth</td>\n",
       "      <td>1.00</td>\n",
       "    </tr>\n",
       "    <tr>\n",
       "      <th>5</th>\n",
       "      <td>http://example/pl/Venus</td>\n",
       "      <td>0.81</td>\n",
       "    </tr>\n",
       "    <tr>\n",
       "      <th>6</th>\n",
       "      <td>http://example/pl/Mars</td>\n",
       "      <td>0.11</td>\n",
       "    </tr>\n",
       "    <tr>\n",
       "      <th>7</th>\n",
       "      <td>http://example/pl/Mercury</td>\n",
       "      <td>0.06</td>\n",
       "    </tr>\n",
       "  </tbody>\n",
       "</table>\n",
       "</div>"
      ],
      "text/plain": [
       "                      planet    mass\n",
       "0  http://example/pl/Jupiter  317.83\n",
       "1   http://example/pl/Saturn   95.16\n",
       "2  http://example/pl/Neptune   17.15\n",
       "3   http://example/pl/Uranus   14.54\n",
       "4    http://example/pl/Earth    1.00\n",
       "5    http://example/pl/Venus    0.81\n",
       "6     http://example/pl/Mars    0.11\n",
       "7  http://example/pl/Mercury    0.06"
      ]
     },
     "execution_count": 18,
     "metadata": {},
     "output_type": "execute_result"
    }
   ],
   "source": [
    "%%sparql http://localhost:7200/repositories/astro -s planetsMass\n",
    "PREFIX pl: <http://example/pl/>\n",
    "\n",
    "SELECT ?planet ?mass {\n",
    "    ?planet rdf:type pl:Planet .\n",
    "    ?planet pl:hasMass ?mass .\n",
    "} ORDER BY DESC(xsd:float(?mass))"
   ]
  },
  {
   "cell_type": "markdown",
   "id": "b1285df7-8a80-418a-92e0-15d9e2119b49",
   "metadata": {},
   "source": [
    "**Examples of Chart Visualizations**"
   ]
  },
  {
   "cell_type": "code",
   "execution_count": 19,
   "id": "ffea84fb-93f6-4820-b1cd-9cc14e438907",
   "metadata": {},
   "outputs": [
    {
     "data": {
      "text/html": [
       "<style type=\"text/css\">\n",
       "#T_0870e_row0_col1 {\n",
       "  color: white;\n",
       "  font-weight: bold;\n",
       "  background-color: darkgreen;\n",
       "}\n",
       "</style>\n",
       "<table id=\"T_0870e_\">\n",
       "  <thead>\n",
       "    <tr>\n",
       "      <th class=\"blank level0\" >&nbsp;</th>\n",
       "      <th class=\"col_heading level0 col0\" >planet</th>\n",
       "      <th class=\"col_heading level0 col1\" >mass</th>\n",
       "    </tr>\n",
       "  </thead>\n",
       "  <tbody>\n",
       "    <tr>\n",
       "      <th id=\"T_0870e_level0_row0\" class=\"row_heading level0 row0\" >0</th>\n",
       "      <td id=\"T_0870e_row0_col0\" class=\"data row0 col0\" >http://example/pl/Jupiter</td>\n",
       "      <td id=\"T_0870e_row0_col1\" class=\"data row0 col1\" >317.83</td>\n",
       "    </tr>\n",
       "  </tbody>\n",
       "</table>\n"
      ],
      "text/plain": [
       "<pandas.io.formats.style.Styler at 0x7f89ab5f4cd0>"
      ]
     },
     "execution_count": 19,
     "metadata": {},
     "output_type": "execute_result"
    }
   ],
   "source": [
    "planetsMass[:1].style.highlight_max(subset=\"mass\", axis=1, props='color:white; font-weight:bold; background-color:darkgreen;')\n"
   ]
  },
  {
   "cell_type": "code",
   "execution_count": 20,
   "id": "36e61104-7b0e-4eed-943a-1788b30faaaa",
   "metadata": {},
   "outputs": [
    {
     "data": {
      "text/html": [
       "<style type=\"text/css\">\n",
       "#T_4484d_row0_col1 {\n",
       "  color: black;\n",
       "  font-weight: bold;\n",
       "  background-color: yellow;\n",
       "}\n",
       "</style>\n",
       "<table id=\"T_4484d_\">\n",
       "  <thead>\n",
       "    <tr>\n",
       "      <th class=\"blank level0\" >&nbsp;</th>\n",
       "      <th class=\"col_heading level0 col0\" >planet</th>\n",
       "      <th class=\"col_heading level0 col1\" >mass</th>\n",
       "    </tr>\n",
       "  </thead>\n",
       "  <tbody>\n",
       "    <tr>\n",
       "      <th id=\"T_4484d_level0_row0\" class=\"row_heading level0 row0\" >7</th>\n",
       "      <td id=\"T_4484d_row0_col0\" class=\"data row0 col0\" >http://example/pl/Mercury</td>\n",
       "      <td id=\"T_4484d_row0_col1\" class=\"data row0 col1\" >0.06</td>\n",
       "    </tr>\n",
       "  </tbody>\n",
       "</table>\n"
      ],
      "text/plain": [
       "<pandas.io.formats.style.Styler at 0x7f89ab80b340>"
      ]
     },
     "execution_count": 20,
     "metadata": {},
     "output_type": "execute_result"
    }
   ],
   "source": [
    "planetsMass[7:].style.highlight_min(subset=\"mass\", axis=1, props='color:black; font-weight:bold; background-color:yellow;')"
   ]
  },
  {
   "cell_type": "code",
   "execution_count": 21,
   "id": "9594ff53-6086-4571-afff-b63b9e3b4c67",
   "metadata": {},
   "outputs": [
    {
     "name": "stdout",
     "output_type": "stream",
     "text": [
      "This is the order of planers ranked by mass\n",
      "1: Jupiter\n",
      "2: Saturn\n",
      "3: Neptune\n",
      "4: Uranus\n",
      "5: Earth\n",
      "6: Venus\n",
      "7: Mars\n",
      "8: Mercury\n"
     ]
    }
   ],
   "source": [
    "print(\"This is the order of planers ranked by mass\")\n",
    "for p in range(len(planetsMass[\"planet\"])):\n",
    "    print(str(p+1) + \": \" + planetsMass[\"planet\"][p].split(\"/\")[4])"
   ]
  },
  {
   "cell_type": "markdown",
   "id": "22b9f95f-1d00-4886-9e0c-881de74f7b91",
   "metadata": {},
   "source": [
    "### Rank Plants in terms of Diameter"
   ]
  },
  {
   "cell_type": "code",
   "execution_count": 22,
   "id": "0707222f-cfdc-41ed-9b27-e0e7aebe2b9c",
   "metadata": {},
   "outputs": [
    {
     "data": {
      "text/html": [
       "<div>\n",
       "<style scoped>\n",
       "    .dataframe tbody tr th:only-of-type {\n",
       "        vertical-align: middle;\n",
       "    }\n",
       "\n",
       "    .dataframe tbody tr th {\n",
       "        vertical-align: top;\n",
       "    }\n",
       "\n",
       "    .dataframe thead th {\n",
       "        text-align: right;\n",
       "    }\n",
       "</style>\n",
       "<table border=\"1\" class=\"dataframe\">\n",
       "  <thead>\n",
       "    <tr style=\"text-align: right;\">\n",
       "      <th></th>\n",
       "      <th>planet</th>\n",
       "      <th>diameter</th>\n",
       "      <th>mass</th>\n",
       "    </tr>\n",
       "  </thead>\n",
       "  <tbody>\n",
       "    <tr>\n",
       "      <th>0</th>\n",
       "      <td>http://example/pl/Earth</td>\n",
       "      <td>1.000</td>\n",
       "      <td>1.00</td>\n",
       "    </tr>\n",
       "    <tr>\n",
       "      <th>1</th>\n",
       "      <td>http://example/pl/Mars</td>\n",
       "      <td>0.532</td>\n",
       "      <td>0.11</td>\n",
       "    </tr>\n",
       "    <tr>\n",
       "      <th>2</th>\n",
       "      <td>http://example/pl/Jupiter</td>\n",
       "      <td>11.209</td>\n",
       "      <td>317.83</td>\n",
       "    </tr>\n",
       "    <tr>\n",
       "      <th>3</th>\n",
       "      <td>http://example/pl/Mercury</td>\n",
       "      <td>0.383</td>\n",
       "      <td>0.06</td>\n",
       "    </tr>\n",
       "    <tr>\n",
       "      <th>4</th>\n",
       "      <td>http://example/pl/Neptune</td>\n",
       "      <td>3.883</td>\n",
       "      <td>17.15</td>\n",
       "    </tr>\n",
       "    <tr>\n",
       "      <th>5</th>\n",
       "      <td>http://example/pl/Saturn</td>\n",
       "      <td>9.449</td>\n",
       "      <td>95.16</td>\n",
       "    </tr>\n",
       "    <tr>\n",
       "      <th>6</th>\n",
       "      <td>http://example/pl/Uranus</td>\n",
       "      <td>4.007</td>\n",
       "      <td>14.54</td>\n",
       "    </tr>\n",
       "    <tr>\n",
       "      <th>7</th>\n",
       "      <td>http://example/pl/Venus</td>\n",
       "      <td>0.949</td>\n",
       "      <td>0.81</td>\n",
       "    </tr>\n",
       "  </tbody>\n",
       "</table>\n",
       "</div>"
      ],
      "text/plain": [
       "                      planet  diameter    mass\n",
       "0    http://example/pl/Earth     1.000    1.00\n",
       "1     http://example/pl/Mars     0.532    0.11\n",
       "2  http://example/pl/Jupiter    11.209  317.83\n",
       "3  http://example/pl/Mercury     0.383    0.06\n",
       "4  http://example/pl/Neptune     3.883   17.15\n",
       "5   http://example/pl/Saturn     9.449   95.16\n",
       "6   http://example/pl/Uranus     4.007   14.54\n",
       "7    http://example/pl/Venus     0.949    0.81"
      ]
     },
     "execution_count": 22,
     "metadata": {},
     "output_type": "execute_result"
    }
   ],
   "source": [
    "%%sparql http://localhost:7200/repositories/astro -s planetsDiameter\n",
    "PREFIX pl: <http://example/pl/>\n",
    "\n",
    "SELECT ?planet (xsd:float(?diameter1) as ?diameter) (xsd:float(?mass1) as ?mass) {\n",
    "    ?planet rdf:type pl:Planet .\n",
    "    ?planet pl:hasEquatorialDiameter ?diameter1 .\n",
    "    ?planet pl:hasMass ?mass1 .\n",
    "} "
   ]
  },
  {
   "cell_type": "code",
   "execution_count": 23,
   "id": "ebadd8a7-3839-4e80-89ee-7bbf57fa8f20",
   "metadata": {},
   "outputs": [
    {
     "data": {
      "text/plain": [
       "<AxesSubplot:xlabel='planet', ylabel='mass'>"
      ]
     },
     "execution_count": 23,
     "metadata": {},
     "output_type": "execute_result"
    },
    {
     "data": {
      "image/png": "[encoded data removed]",
      "text/plain": [
       "<Figure size 432x288 with 1 Axes>"
      ]
     },
     "metadata": {
      "needs_background": "light"
     },
     "output_type": "display_data"
    }
   ],
   "source": [
    "planetsDiameter.plot.scatter(x=\"planet\", y=\"mass\", s=planetsDiameter[\"diameter\"] * 100, rot=\"90\", color=\"green\")"
   ]
  },
  {
   "cell_type": "markdown",
   "id": "d696190f-e925-4194-80c8-161aaf354bab",
   "metadata": {},
   "source": [
    "## Planets, Their Volume and Their Temperature via DBPedia"
   ]
  },
  {
   "cell_type": "code",
   "execution_count": 49,
   "id": "631fa4c2-d652-486b-8fbc-af025f9628f2",
   "metadata": {},
   "outputs": [
    {
     "data": {
      "text/html": [
       "<div>\n",
       "<style scoped>\n",
       "    .dataframe tbody tr th:only-of-type {\n",
       "        vertical-align: middle;\n",
       "    }\n",
       "\n",
       "    .dataframe tbody tr th {\n",
       "        vertical-align: top;\n",
       "    }\n",
       "\n",
       "    .dataframe thead th {\n",
       "        text-align: right;\n",
       "    }\n",
       "</style>\n",
       "<table border=\"1\" class=\"dataframe\">\n",
       "  <thead>\n",
       "    <tr style=\"text-align: right;\">\n",
       "      <th></th>\n",
       "      <th>planet</th>\n",
       "      <th>volume</th>\n",
       "      <th>avg_temp</th>\n",
       "    </tr>\n",
       "  </thead>\n",
       "  <tbody>\n",
       "    <tr>\n",
       "      <th>0</th>\n",
       "      <td>http://dbpedia.org/resource/Saturn</td>\n",
       "      <td>8.271300e+09</td>\n",
       "      <td>115.5</td>\n",
       "    </tr>\n",
       "    <tr>\n",
       "      <th>1</th>\n",
       "      <td>http://dbpedia.org/resource/Mercury_(planet)</td>\n",
       "      <td>5.600000e-02</td>\n",
       "      <td>270.15</td>\n",
       "    </tr>\n",
       "    <tr>\n",
       "      <th>2</th>\n",
       "      <td>http://dbpedia.org/resource/Venus</td>\n",
       "      <td>8.570000e-01</td>\n",
       "      <td>737.075</td>\n",
       "    </tr>\n",
       "    <tr>\n",
       "      <th>3</th>\n",
       "      <td>http://dbpedia.org/resource/Jupiter</td>\n",
       "      <td>1.431300e+09</td>\n",
       "      <td>146.5</td>\n",
       "    </tr>\n",
       "    <tr>\n",
       "      <th>4</th>\n",
       "      <td>http://dbpedia.org/resource/Mars</td>\n",
       "      <td>1.510000e-01</td>\n",
       "      <td>210.075</td>\n",
       "    </tr>\n",
       "    <tr>\n",
       "      <th>5</th>\n",
       "      <td>http://dbpedia.org/resource/Neptune</td>\n",
       "      <td>5.774000e+01</td>\n",
       "      <td>55</td>\n",
       "    </tr>\n",
       "    <tr>\n",
       "      <th>6</th>\n",
       "      <td>http://dbpedia.org/resource/Uranus</td>\n",
       "      <td>6.308600e+01</td>\n",
       "      <td>64.5</td>\n",
       "    </tr>\n",
       "  </tbody>\n",
       "</table>\n",
       "</div>"
      ],
      "text/plain": [
       "                                         planet        volume avg_temp\n",
       "0            http://dbpedia.org/resource/Saturn  8.271300e+09    115.5\n",
       "1  http://dbpedia.org/resource/Mercury_(planet)  5.600000e-02   270.15\n",
       "2             http://dbpedia.org/resource/Venus  8.570000e-01  737.075\n",
       "3           http://dbpedia.org/resource/Jupiter  1.431300e+09    146.5\n",
       "4              http://dbpedia.org/resource/Mars  1.510000e-01  210.075\n",
       "5           http://dbpedia.org/resource/Neptune  5.774000e+01       55\n",
       "6            http://dbpedia.org/resource/Uranus  6.308600e+01     64.5"
      ]
     },
     "execution_count": 49,
     "metadata": {},
     "output_type": "execute_result"
    }
   ],
   "source": [
    "%%sparql https://dbpedia.org/sparql/ -s planetsTemp\n",
    "PREFIX dbr: <http://dbpedia.org/resource/>\n",
    "PREFIX dbo: <http://dbpedia.org/ontology/>\n",
    "\n",
    "SELECT ?planet ?volume (AVG(?o) as ?avg_temp) WHERE{\n",
    "   ?planet dbo:meanTemperature ?o .\n",
    "    ?planet dbo:volume ?volume .\n",
    "    \n",
    "    Filter (?planet in (\n",
    "        dbr:Mercury_\\(planet\\),\n",
    "        dbr:Venus,\n",
    "        dbr:Earth,\n",
    "        dbr:Mars,\n",
    "        dbr:Jupiter,\n",
    "        dbr:Uranus,\n",
    "        dbr:Saturn,\n",
    "        dbr:Neptune\n",
    "    ))\n",
    "}GROUP BY ?planet ?volume"
   ]
  },
  {
   "cell_type": "code",
   "execution_count": 50,
   "id": "55bffb9b-1aa6-465b-bc69-5f129f6367b4",
   "metadata": {},
   "outputs": [
    {
     "data": {
      "text/html": [
       "<style type=\"text/css\">\n",
       "#T_a1b29_row0_col2 {\n",
       "  background: hsl(267.75, 100%, 50%);\n",
       "}\n",
       "#T_a1b29_row1_col2 {\n",
       "  background: hsl(345.075, 100%, 50%);\n",
       "}\n",
       "#T_a1b29_row2_col2 {\n",
       "  background: hsl(360, 100%, 50%);\n",
       "}\n",
       "#T_a1b29_row3_col2 {\n",
       "  background: hsl(283.25, 100%, 50%);\n",
       "}\n",
       "#T_a1b29_row4_col2 {\n",
       "  background: hsl(315.0375, 100%, 50%);\n",
       "}\n",
       "#T_a1b29_row5_col2 {\n",
       "  background: hsl(237.5, 100%, 50%);\n",
       "}\n",
       "#T_a1b29_row6_col2 {\n",
       "  background: hsl(242.25, 100%, 50%);\n",
       "}\n",
       "</style>\n",
       "<table id=\"T_a1b29_\">\n",
       "  <thead>\n",
       "    <tr>\n",
       "      <th class=\"blank level0\" >&nbsp;</th>\n",
       "      <th class=\"col_heading level0 col0\" >planet</th>\n",
       "      <th class=\"col_heading level0 col1\" >volume</th>\n",
       "      <th class=\"col_heading level0 col2\" >avg_temp</th>\n",
       "    </tr>\n",
       "  </thead>\n",
       "  <tbody>\n",
       "    <tr>\n",
       "      <th id=\"T_a1b29_level0_row0\" class=\"row_heading level0 row0\" >0</th>\n",
       "      <td id=\"T_a1b29_row0_col0\" class=\"data row0 col0\" >http://dbpedia.org/resource/Saturn</td>\n",
       "      <td id=\"T_a1b29_row0_col1\" class=\"data row0 col1\" >8271300000.000000</td>\n",
       "      <td id=\"T_a1b29_row0_col2\" class=\"data row0 col2\" >115.5</td>\n",
       "    </tr>\n",
       "    <tr>\n",
       "      <th id=\"T_a1b29_level0_row1\" class=\"row_heading level0 row1\" >1</th>\n",
       "      <td id=\"T_a1b29_row1_col0\" class=\"data row1 col0\" >http://dbpedia.org/resource/Mercury_(planet)</td>\n",
       "      <td id=\"T_a1b29_row1_col1\" class=\"data row1 col1\" >0.056000</td>\n",
       "      <td id=\"T_a1b29_row1_col2\" class=\"data row1 col2\" >270.15</td>\n",
       "    </tr>\n",
       "    <tr>\n",
       "      <th id=\"T_a1b29_level0_row2\" class=\"row_heading level0 row2\" >2</th>\n",
       "      <td id=\"T_a1b29_row2_col0\" class=\"data row2 col0\" >http://dbpedia.org/resource/Venus</td>\n",
       "      <td id=\"T_a1b29_row2_col1\" class=\"data row2 col1\" >0.857000</td>\n",
       "      <td id=\"T_a1b29_row2_col2\" class=\"data row2 col2\" >737.075</td>\n",
       "    </tr>\n",
       "    <tr>\n",
       "      <th id=\"T_a1b29_level0_row3\" class=\"row_heading level0 row3\" >3</th>\n",
       "      <td id=\"T_a1b29_row3_col0\" class=\"data row3 col0\" >http://dbpedia.org/resource/Jupiter</td>\n",
       "      <td id=\"T_a1b29_row3_col1\" class=\"data row3 col1\" >1431300000.000000</td>\n",
       "      <td id=\"T_a1b29_row3_col2\" class=\"data row3 col2\" >146.5</td>\n",
       "    </tr>\n",
       "    <tr>\n",
       "      <th id=\"T_a1b29_level0_row4\" class=\"row_heading level0 row4\" >4</th>\n",
       "      <td id=\"T_a1b29_row4_col0\" class=\"data row4 col0\" >http://dbpedia.org/resource/Mars</td>\n",
       "      <td id=\"T_a1b29_row4_col1\" class=\"data row4 col1\" >0.151000</td>\n",
       "      <td id=\"T_a1b29_row4_col2\" class=\"data row4 col2\" >210.075</td>\n",
       "    </tr>\n",
       "    <tr>\n",
       "      <th id=\"T_a1b29_level0_row5\" class=\"row_heading level0 row5\" >5</th>\n",
       "      <td id=\"T_a1b29_row5_col0\" class=\"data row5 col0\" >http://dbpedia.org/resource/Neptune</td>\n",
       "      <td id=\"T_a1b29_row5_col1\" class=\"data row5 col1\" >57.740000</td>\n",
       "      <td id=\"T_a1b29_row5_col2\" class=\"data row5 col2\" >55</td>\n",
       "    </tr>\n",
       "    <tr>\n",
       "      <th id=\"T_a1b29_level0_row6\" class=\"row_heading level0 row6\" >6</th>\n",
       "      <td id=\"T_a1b29_row6_col0\" class=\"data row6 col0\" >http://dbpedia.org/resource/Uranus</td>\n",
       "      <td id=\"T_a1b29_row6_col1\" class=\"data row6 col1\" >63.086000</td>\n",
       "      <td id=\"T_a1b29_row6_col2\" class=\"data row6 col2\" >64.5</td>\n",
       "    </tr>\n",
       "  </tbody>\n",
       "</table>\n"
      ],
      "text/plain": [
       "<pandas.io.formats.style.Styler at 0x7f89abc87eb0>"
      ]
     },
     "execution_count": 50,
     "metadata": {},
     "output_type": "execute_result"
    }
   ],
   "source": [
    "def temp_color(t):\n",
    "    return f'background: hsl({min(210 + (t/2), 360)}, 100%, 50%)' \n",
    "\n",
    "planetsTemp.style \\\n",
    "    .applymap(temp_color, subset=(slice(None), \"avg_temp\"))"
   ]
  },
  {
   "cell_type": "code",
   "execution_count": 68,
   "id": "a49ffbb8-6830-4e03-aa80-5e268b4d1162",
   "metadata": {},
   "outputs": [
    {
     "data": {
      "text/plain": [
       "<AxesSubplot:xlabel='planet', ylabel='volume'>"
      ]
     },
     "execution_count": 68,
     "metadata": {},
     "output_type": "execute_result"
    },
    {
     "data": {
      "image/png": "[encoded data removed]",
      "text/plain": [
       "<Figure size 432x288 with 1 Axes>"
      ]
     },
     "metadata": {
      "needs_background": "light"
     },
     "output_type": "display_data"
    }
   ],
   "source": [
    "planetsTemp.plot.scatter(x=\"planet\", y=\"volume\", c=\"avg_temp\", s=100, edgecolors='0', sharex=False, rot=\"90\")"
   ]
  }
 ],
 "metadata": {
  "kernelspec": {
   "display_name": "Python 3 (ipykernel)",
   "language": "python",
   "name": "python3"
  },
  "language_info": {
   "codemirror_mode": {
    "name": "ipython",
    "version": 3
   },
   "file_extension": ".py",
   "mimetype": "text/x-python",
   "name": "python",
   "nbconvert_exporter": "python",
   "pygments_lexer": "ipython3",
   "version": "3.9.7"
  }
 },
 "nbformat": 4,
 "nbformat_minor": 5
}
