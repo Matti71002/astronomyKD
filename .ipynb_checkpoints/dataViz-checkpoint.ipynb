{
 "cells": [
  {
   "cell_type": "markdown",
   "id": "46c6ba6a-2b58-4380-9182-8092ee47551d",
   "metadata": {},
   "source": [
    "# Data Visualizations for Astronomy Ontology\n",
    "## Group 59"
   ]
  },
  {
   "cell_type": "code",
   "execution_count": 2,
   "id": "89d9882b-986d-45dc-8edd-d0796b95a951",
   "metadata": {},
   "outputs": [],
   "source": [
    "%load_ext ipython_sparql_pandas"
   ]
  },
  {
   "cell_type": "markdown",
   "id": "52d07742-b114-4a12-a620-3a8c1344cb89",
   "metadata": {},
   "source": [
    "First, make sure that `astronomy.ttl` is loaded in GraphDb as the `astro` repository.\n",
    "Then, we will query to find the planets."
   ]
  },
  {
   "cell_type": "code",
   "execution_count": 15,
   "id": "32b671c6-651d-4408-9e2b-df3d9f0f790c",
   "metadata": {},
   "outputs": [
    {
     "data": {
      "text/html": [
       "<div>\n",
       "<style scoped>\n",
       "    .dataframe tbody tr th:only-of-type {\n",
       "        vertical-align: middle;\n",
       "    }\n",
       "\n",
       "    .dataframe tbody tr th {\n",
       "        vertical-align: top;\n",
       "    }\n",
       "\n",
       "    .dataframe thead th {\n",
       "        text-align: right;\n",
       "    }\n",
       "</style>\n",
       "<table border=\"1\" class=\"dataframe\">\n",
       "  <thead>\n",
       "    <tr style=\"text-align: right;\">\n",
       "      <th></th>\n",
       "      <th>planet</th>\n",
       "      <th>moons</th>\n",
       "    </tr>\n",
       "  </thead>\n",
       "  <tbody>\n",
       "    <tr>\n",
       "      <th>0</th>\n",
       "      <td>http://example/pl/Earth</td>\n",
       "      <td>1</td>\n",
       "    </tr>\n",
       "    <tr>\n",
       "      <th>1</th>\n",
       "      <td>http://example/pl/Mars</td>\n",
       "      <td>2</td>\n",
       "    </tr>\n",
       "    <tr>\n",
       "      <th>2</th>\n",
       "      <td>http://example/pl/Eris</td>\n",
       "      <td>1</td>\n",
       "    </tr>\n",
       "    <tr>\n",
       "      <th>3</th>\n",
       "      <td>http://example/pl/Gonggong</td>\n",
       "      <td>1</td>\n",
       "    </tr>\n",
       "    <tr>\n",
       "      <th>4</th>\n",
       "      <td>http://example/pl/Haumea</td>\n",
       "      <td>2</td>\n",
       "    </tr>\n",
       "    <tr>\n",
       "      <th>5</th>\n",
       "      <td>http://example/pl/Jupiter</td>\n",
       "      <td>79</td>\n",
       "    </tr>\n",
       "    <tr>\n",
       "      <th>6</th>\n",
       "      <td>http://example/pl/Makemake</td>\n",
       "      <td>1</td>\n",
       "    </tr>\n",
       "    <tr>\n",
       "      <th>7</th>\n",
       "      <td>http://example/pl/Neptune</td>\n",
       "      <td>14</td>\n",
       "    </tr>\n",
       "    <tr>\n",
       "      <th>8</th>\n",
       "      <td>http://example/pl/Orcus</td>\n",
       "      <td>1</td>\n",
       "    </tr>\n",
       "    <tr>\n",
       "      <th>9</th>\n",
       "      <td>http://example/pl/Pluto</td>\n",
       "      <td>5</td>\n",
       "    </tr>\n",
       "    <tr>\n",
       "      <th>10</th>\n",
       "      <td>http://example/pl/Quaoar</td>\n",
       "      <td>1</td>\n",
       "    </tr>\n",
       "    <tr>\n",
       "      <th>11</th>\n",
       "      <td>http://example/pl/Salacia</td>\n",
       "      <td>1</td>\n",
       "    </tr>\n",
       "    <tr>\n",
       "      <th>12</th>\n",
       "      <td>http://example/pl/Saturn</td>\n",
       "      <td>82</td>\n",
       "    </tr>\n",
       "    <tr>\n",
       "      <th>13</th>\n",
       "      <td>http://example/pl/Uranus</td>\n",
       "      <td>27</td>\n",
       "    </tr>\n",
       "  </tbody>\n",
       "</table>\n",
       "</div>"
      ],
      "text/plain": [
       "                        planet  moons\n",
       "0      http://example/pl/Earth      1\n",
       "1       http://example/pl/Mars      2\n",
       "2       http://example/pl/Eris      1\n",
       "3   http://example/pl/Gonggong      1\n",
       "4     http://example/pl/Haumea      2\n",
       "5    http://example/pl/Jupiter     79\n",
       "6   http://example/pl/Makemake      1\n",
       "7    http://example/pl/Neptune     14\n",
       "8      http://example/pl/Orcus      1\n",
       "9      http://example/pl/Pluto      5\n",
       "10    http://example/pl/Quaoar      1\n",
       "11   http://example/pl/Salacia      1\n",
       "12    http://example/pl/Saturn     82\n",
       "13    http://example/pl/Uranus     27"
      ]
     },
     "execution_count": 15,
     "metadata": {},
     "output_type": "execute_result"
    }
   ],
   "source": [
    "%%sparql http://localhost:7200/repositories/astro -s planets\n",
    "PREFIX pl: <http://example/pl/>\n",
    "\n",
    "SELECT ?planet (COUNT(*) as ?moons) {\n",
    "    ?planet pl:hasSatellite ?o .\n",
    "} GROUP BY ?planet"
   ]
  },
  {
   "cell_type": "markdown",
   "id": "36826cd2-e52d-4dc1-a645-dbb75d3aa825",
   "metadata": {},
   "source": [
    "## Chart Visualizations"
   ]
  },
  {
   "cell_type": "markdown",
   "id": "3d4e5fce-7d6b-4120-84e9-5a4a4b165ab8",
   "metadata": {},
   "source": [
    "### Bar Graph of Planets and Their Number of Moons"
   ]
  },
  {
   "cell_type": "code",
   "execution_count": 16,
   "id": "9a0d0829-fc4a-4c5a-bc0b-9e7263fe1541",
   "metadata": {},
   "outputs": [
    {
     "data": {
      "image/png": "[encoded data removed]",
      "text/plain": [
       "<Figure size 432x288 with 1 Axes>"
      ]
     },
     "metadata": {
      "needs_background": "light"
     },
     "output_type": "display_data"
    }
   ],
   "source": [
    "planets.set_index('planet', inplace=True);\n",
    "planets['moons'].plot(kind=\"bar\", ylabel=\"number of moons\");"
   ]
  },
  {
   "cell_type": "markdown",
   "id": "08ed358d-8c05-4df1-8ad7-c746d7cc0bb7",
   "metadata": {},
   "source": [
    "### Moon Count Visualization with Planet Size"
   ]
  },
  {
   "cell_type": "code",
   "execution_count": 97,
   "id": "fbf3461d-ada1-4ed7-8816-a1def2b5294f",
   "metadata": {},
   "outputs": [
    {
     "data": {
      "text/html": [
       "<div>\n",
       "<style scoped>\n",
       "    .dataframe tbody tr th:only-of-type {\n",
       "        vertical-align: middle;\n",
       "    }\n",
       "\n",
       "    .dataframe tbody tr th {\n",
       "        vertical-align: top;\n",
       "    }\n",
       "\n",
       "    .dataframe thead th {\n",
       "        text-align: right;\n",
       "    }\n",
       "</style>\n",
       "<table border=\"1\" class=\"dataframe\">\n",
       "  <thead>\n",
       "    <tr style=\"text-align: right;\">\n",
       "      <th></th>\n",
       "      <th>planet</th>\n",
       "      <th>moons</th>\n",
       "      <th>mass</th>\n",
       "    </tr>\n",
       "  </thead>\n",
       "  <tbody>\n",
       "    <tr>\n",
       "      <th>0</th>\n",
       "      <td>http://example/pl/Earth</td>\n",
       "      <td>1</td>\n",
       "      <td>1.00</td>\n",
       "    </tr>\n",
       "    <tr>\n",
       "      <th>1</th>\n",
       "      <td>http://example/pl/Mars</td>\n",
       "      <td>2</td>\n",
       "      <td>0.11</td>\n",
       "    </tr>\n",
       "    <tr>\n",
       "      <th>2</th>\n",
       "      <td>http://example/pl/Jupiter</td>\n",
       "      <td>79</td>\n",
       "      <td>317.83</td>\n",
       "    </tr>\n",
       "    <tr>\n",
       "      <th>3</th>\n",
       "      <td>http://example/pl/Neptune</td>\n",
       "      <td>14</td>\n",
       "      <td>17.15</td>\n",
       "    </tr>\n",
       "    <tr>\n",
       "      <th>4</th>\n",
       "      <td>http://example/pl/Saturn</td>\n",
       "      <td>82</td>\n",
       "      <td>95.16</td>\n",
       "    </tr>\n",
       "    <tr>\n",
       "      <th>5</th>\n",
       "      <td>http://example/pl/Uranus</td>\n",
       "      <td>27</td>\n",
       "      <td>14.54</td>\n",
       "    </tr>\n",
       "  </tbody>\n",
       "</table>\n",
       "</div>"
      ],
      "text/plain": [
       "                      planet  moons    mass\n",
       "0    http://example/pl/Earth      1    1.00\n",
       "1     http://example/pl/Mars      2    0.11\n",
       "2  http://example/pl/Jupiter     79  317.83\n",
       "3  http://example/pl/Neptune     14   17.15\n",
       "4   http://example/pl/Saturn     82   95.16\n",
       "5   http://example/pl/Uranus     27   14.54"
      ]
     },
     "execution_count": 97,
     "metadata": {},
     "output_type": "execute_result"
    }
   ],
   "source": [
    "%%sparql http://localhost:7200/repositories/astro -s planetsWithSize\n",
    "PREFIX pl: <http://example/pl/>\n",
    "\n",
    "SELECT ?planet (COUNT(*) as ?moons) (xsd:float(?mass1) as ?mass){\n",
    "    ?planet pl:hasSatellite ?moons .\n",
    "    ?planet pl:hasMass ?mass1 .\n",
    "} GROUP BY ?planet ?mass1"
   ]
  },
  {
   "cell_type": "code",
   "execution_count": 99,
   "id": "41e33801-cbb3-454d-9b69-7973693d4a4b",
   "metadata": {},
   "outputs": [
    {
     "data": {
      "text/plain": [
       "<AxesSubplot:xlabel='planet', ylabel='moons'>"
      ]
     },
     "execution_count": 99,
     "metadata": {},
     "output_type": "execute_result"
    },
    {
     "data": {
      "image/png": "[encoded data removed]",
      "text/plain": [
       "<Figure size 432x288 with 2 Axes>"
      ]
     },
     "metadata": {
      "needs_background": "light"
     },
     "output_type": "display_data"
    }
   ],
   "source": [
    "planetsWithSize.plot.scatter(x=\"planet\", y=\"moons\", c=\"mass\", s=100, edgecolors='0', rot=\"90\")"
   ]
  },
  {
   "cell_type": "markdown",
   "id": "a69e74f1-4634-45e9-a841-fae63de009cd",
   "metadata": {},
   "source": [
    "### Rank Planets in terms of Mass "
   ]
  },
  {
   "cell_type": "code",
   "execution_count": 59,
   "id": "31757627-a9ad-43dc-abac-b420d9b4d3a8",
   "metadata": {},
   "outputs": [
    {
     "data": {
      "text/html": [
       "<div>\n",
       "<style scoped>\n",
       "    .dataframe tbody tr th:only-of-type {\n",
       "        vertical-align: middle;\n",
       "    }\n",
       "\n",
       "    .dataframe tbody tr th {\n",
       "        vertical-align: top;\n",
       "    }\n",
       "\n",
       "    .dataframe thead th {\n",
       "        text-align: right;\n",
       "    }\n",
       "</style>\n",
       "<table border=\"1\" class=\"dataframe\">\n",
       "  <thead>\n",
       "    <tr style=\"text-align: right;\">\n",
       "      <th></th>\n",
       "      <th>planet</th>\n",
       "      <th>mass</th>\n",
       "    </tr>\n",
       "  </thead>\n",
       "  <tbody>\n",
       "    <tr>\n",
       "      <th>0</th>\n",
       "      <td>http://example/pl/Jupiter</td>\n",
       "      <td>317.83</td>\n",
       "    </tr>\n",
       "    <tr>\n",
       "      <th>1</th>\n",
       "      <td>http://example/pl/Saturn</td>\n",
       "      <td>95.16</td>\n",
       "    </tr>\n",
       "    <tr>\n",
       "      <th>2</th>\n",
       "      <td>http://example/pl/Neptune</td>\n",
       "      <td>17.15</td>\n",
       "    </tr>\n",
       "    <tr>\n",
       "      <th>3</th>\n",
       "      <td>http://example/pl/Uranus</td>\n",
       "      <td>14.54</td>\n",
       "    </tr>\n",
       "    <tr>\n",
       "      <th>4</th>\n",
       "      <td>http://example/pl/Earth</td>\n",
       "      <td>1.00</td>\n",
       "    </tr>\n",
       "    <tr>\n",
       "      <th>5</th>\n",
       "      <td>http://example/pl/Venus</td>\n",
       "      <td>0.81</td>\n",
       "    </tr>\n",
       "    <tr>\n",
       "      <th>6</th>\n",
       "      <td>http://example/pl/Mars</td>\n",
       "      <td>0.11</td>\n",
       "    </tr>\n",
       "    <tr>\n",
       "      <th>7</th>\n",
       "      <td>http://example/pl/Mercury</td>\n",
       "      <td>0.06</td>\n",
       "    </tr>\n",
       "  </tbody>\n",
       "</table>\n",
       "</div>"
      ],
      "text/plain": [
       "                      planet    mass\n",
       "0  http://example/pl/Jupiter  317.83\n",
       "1   http://example/pl/Saturn   95.16\n",
       "2  http://example/pl/Neptune   17.15\n",
       "3   http://example/pl/Uranus   14.54\n",
       "4    http://example/pl/Earth    1.00\n",
       "5    http://example/pl/Venus    0.81\n",
       "6     http://example/pl/Mars    0.11\n",
       "7  http://example/pl/Mercury    0.06"
      ]
     },
     "execution_count": 59,
     "metadata": {},
     "output_type": "execute_result"
    }
   ],
   "source": [
    "%%sparql http://localhost:7200/repositories/astro -s planetsMass\n",
    "PREFIX pl: <http://example/pl/>\n",
    "\n",
    "SELECT ?planet ?mass {\n",
    "    ?planet rdf:type pl:Planet .\n",
    "    ?planet pl:hasMass ?mass .\n",
    "} ORDER BY DESC(xsd:float(?mass))"
   ]
  },
  {
   "cell_type": "markdown",
   "id": "b1285df7-8a80-418a-92e0-15d9e2119b49",
   "metadata": {},
   "source": [
    "**Examples of Chart Visualizations**"
   ]
  },
  {
   "cell_type": "code",
   "execution_count": 60,
   "id": "ffea84fb-93f6-4820-b1cd-9cc14e438907",
   "metadata": {},
   "outputs": [
    {
     "data": {
      "text/html": [
       "<style type=\"text/css\">\n",
       "#T_17b4c_row0_col1 {\n",
       "  color: white;\n",
       "  font-weight: bold;\n",
       "  background-color: darkgreen;\n",
       "}\n",
       "</style>\n",
       "<table id=\"T_17b4c_\">\n",
       "  <thead>\n",
       "    <tr>\n",
       "      <th class=\"blank level0\" >&nbsp;</th>\n",
       "      <th class=\"col_heading level0 col0\" >planet</th>\n",
       "      <th class=\"col_heading level0 col1\" >mass</th>\n",
       "    </tr>\n",
       "  </thead>\n",
       "  <tbody>\n",
       "    <tr>\n",
       "      <th id=\"T_17b4c_level0_row0\" class=\"row_heading level0 row0\" >0</th>\n",
       "      <td id=\"T_17b4c_row0_col0\" class=\"data row0 col0\" >http://example/pl/Jupiter</td>\n",
       "      <td id=\"T_17b4c_row0_col1\" class=\"data row0 col1\" >317.83</td>\n",
       "    </tr>\n",
       "  </tbody>\n",
       "</table>\n"
      ],
      "text/plain": [
       "<pandas.io.formats.style.Styler at 0x7fa8561a9e50>"
      ]
     },
     "execution_count": 60,
     "metadata": {},
     "output_type": "execute_result"
    }
   ],
   "source": [
    "planetsMass[:1].style.highlight_max(subset=\"mass\", axis=1, props='color:white; font-weight:bold; background-color:darkgreen;')\n"
   ]
  },
  {
   "cell_type": "code",
   "execution_count": 58,
   "id": "36e61104-7b0e-4eed-943a-1788b30faaaa",
   "metadata": {},
   "outputs": [
    {
     "data": {
      "text/html": [
       "<style type=\"text/css\">\n",
       "#T_f219d_row0_col1 {\n",
       "  color: black;\n",
       "  font-weight: bold;\n",
       "  background-color: yellow;\n",
       "}\n",
       "</style>\n",
       "<table id=\"T_f219d_\">\n",
       "  <thead>\n",
       "    <tr>\n",
       "      <th class=\"blank level0\" >&nbsp;</th>\n",
       "      <th class=\"col_heading level0 col0\" >planet</th>\n",
       "      <th class=\"col_heading level0 col1\" >mass</th>\n",
       "    </tr>\n",
       "  </thead>\n",
       "  <tbody>\n",
       "    <tr>\n",
       "      <th id=\"T_f219d_level0_row0\" class=\"row_heading level0 row0\" >7</th>\n",
       "      <td id=\"T_f219d_row0_col0\" class=\"data row0 col0\" >http://example/pl/Mercury</td>\n",
       "      <td id=\"T_f219d_row0_col1\" class=\"data row0 col1\" >0.06</td>\n",
       "    </tr>\n",
       "  </tbody>\n",
       "</table>\n"
      ],
      "text/plain": [
       "<pandas.io.formats.style.Styler at 0x7fa8561ec370>"
      ]
     },
     "execution_count": 58,
     "metadata": {},
     "output_type": "execute_result"
    }
   ],
   "source": [
    "planetsMass[7:].style.highlight_min(subset=\"mass\", axis=1, props='color:black; font-weight:bold; background-color:yellow;')"
   ]
  },
  {
   "cell_type": "code",
   "execution_count": 67,
   "id": "9594ff53-6086-4571-afff-b63b9e3b4c67",
   "metadata": {},
   "outputs": [
    {
     "name": "stdout",
     "output_type": "stream",
     "text": [
      "This is the order of planers ranked by mass\n",
      "1: Jupiter\n",
      "2: Saturn\n",
      "3: Neptune\n",
      "4: Uranus\n",
      "5: Earth\n",
      "6: Venus\n",
      "7: Mars\n",
      "8: Mercury\n"
     ]
    }
   ],
   "source": [
    "print(\"This is the order of planers ranked by mass\")\n",
    "for p in range(len(planetsMass[\"planet\"])):\n",
    "    print(str(p+1) + \": \" + planetsMass[\"planet\"][p].split(\"/\")[4])"
   ]
  },
  {
   "cell_type": "markdown",
   "id": "22b9f95f-1d00-4886-9e0c-881de74f7b91",
   "metadata": {},
   "source": [
    "### Rank Plants in terms of Diameter"
   ]
  },
  {
   "cell_type": "code",
   "execution_count": 76,
   "id": "0707222f-cfdc-41ed-9b27-e0e7aebe2b9c",
   "metadata": {},
   "outputs": [
    {
     "data": {
      "text/html": [
       "<div>\n",
       "<style scoped>\n",
       "    .dataframe tbody tr th:only-of-type {\n",
       "        vertical-align: middle;\n",
       "    }\n",
       "\n",
       "    .dataframe tbody tr th {\n",
       "        vertical-align: top;\n",
       "    }\n",
       "\n",
       "    .dataframe thead th {\n",
       "        text-align: right;\n",
       "    }\n",
       "</style>\n",
       "<table border=\"1\" class=\"dataframe\">\n",
       "  <thead>\n",
       "    <tr style=\"text-align: right;\">\n",
       "      <th></th>\n",
       "      <th>planet</th>\n",
       "      <th>diameter</th>\n",
       "      <th>mass</th>\n",
       "    </tr>\n",
       "  </thead>\n",
       "  <tbody>\n",
       "    <tr>\n",
       "      <th>0</th>\n",
       "      <td>http://example/pl/Earth</td>\n",
       "      <td>1.000</td>\n",
       "      <td>1.00</td>\n",
       "    </tr>\n",
       "    <tr>\n",
       "      <th>1</th>\n",
       "      <td>http://example/pl/Mars</td>\n",
       "      <td>0.532</td>\n",
       "      <td>0.11</td>\n",
       "    </tr>\n",
       "    <tr>\n",
       "      <th>2</th>\n",
       "      <td>http://example/pl/Jupiter</td>\n",
       "      <td>11.209</td>\n",
       "      <td>317.83</td>\n",
       "    </tr>\n",
       "    <tr>\n",
       "      <th>3</th>\n",
       "      <td>http://example/pl/Mercury</td>\n",
       "      <td>0.383</td>\n",
       "      <td>0.06</td>\n",
       "    </tr>\n",
       "    <tr>\n",
       "      <th>4</th>\n",
       "      <td>http://example/pl/Neptune</td>\n",
       "      <td>3.883</td>\n",
       "      <td>17.15</td>\n",
       "    </tr>\n",
       "    <tr>\n",
       "      <th>5</th>\n",
       "      <td>http://example/pl/Saturn</td>\n",
       "      <td>9.449</td>\n",
       "      <td>95.16</td>\n",
       "    </tr>\n",
       "    <tr>\n",
       "      <th>6</th>\n",
       "      <td>http://example/pl/Uranus</td>\n",
       "      <td>4.007</td>\n",
       "      <td>14.54</td>\n",
       "    </tr>\n",
       "    <tr>\n",
       "      <th>7</th>\n",
       "      <td>http://example/pl/Venus</td>\n",
       "      <td>0.949</td>\n",
       "      <td>0.81</td>\n",
       "    </tr>\n",
       "  </tbody>\n",
       "</table>\n",
       "</div>"
      ],
      "text/plain": [
       "                      planet  diameter    mass\n",
       "0    http://example/pl/Earth     1.000    1.00\n",
       "1     http://example/pl/Mars     0.532    0.11\n",
       "2  http://example/pl/Jupiter    11.209  317.83\n",
       "3  http://example/pl/Mercury     0.383    0.06\n",
       "4  http://example/pl/Neptune     3.883   17.15\n",
       "5   http://example/pl/Saturn     9.449   95.16\n",
       "6   http://example/pl/Uranus     4.007   14.54\n",
       "7    http://example/pl/Venus     0.949    0.81"
      ]
     },
     "execution_count": 76,
     "metadata": {},
     "output_type": "execute_result"
    }
   ],
   "source": [
    "%%sparql http://localhost:7200/repositories/astro -s planetsDiameter\n",
    "PREFIX pl: <http://example/pl/>\n",
    "\n",
    "SELECT ?planet (xsd:float(?diameter1) as ?diameter) (xsd:float(?mass1) as ?mass) {\n",
    "    ?planet rdf:type pl:Planet .\n",
    "    ?planet pl:hasEquatorialDiameter ?diameter1 .\n",
    "    ?planet pl:hasMass ?mass1 .\n",
    "} "
   ]
  },
  {
   "cell_type": "code",
   "execution_count": 80,
   "id": "ebadd8a7-3839-4e80-89ee-7bbf57fa8f20",
   "metadata": {},
   "outputs": [
    {
     "data": {
      "text/plain": [
       "<AxesSubplot:xlabel='planet', ylabel='mass'>"
      ]
     },
     "execution_count": 80,
     "metadata": {},
     "output_type": "execute_result"
    },
    {
     "data": {
      "image/png": "[encoded data removed]",
      "text/plain": [
       "<Figure size 432x288 with 1 Axes>"
      ]
     },
     "metadata": {
      "needs_background": "light"
     },
     "output_type": "display_data"
    }
   ],
   "source": [
    "planetsDiameter.plot.scatter(x=\"planet\", y=\"mass\", s=planetsDiameter[\"diameter\"] * 100, rot=\"90\", color=\"green\")"
   ]
  }
 ],
 "metadata": {
  "kernelspec": {
   "display_name": "Python 3 (ipykernel)",
   "language": "python",
   "name": "python3"
  },
  "language_info": {
   "codemirror_mode": {
    "name": "ipython",
    "version": 3
   },
   "file_extension": ".py",
   "mimetype": "text/x-python",
   "name": "python",
   "nbconvert_exporter": "python",
   "pygments_lexer": "ipython3",
   "version": "3.9.7"
  }
 },
 "nbformat": 4,
 "nbformat_minor": 5
}
